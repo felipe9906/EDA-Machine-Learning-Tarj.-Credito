{
 "cells": [
  {
   "cell_type": "markdown",
   "id": "20605640",
   "metadata": {},
   "source": [
    "# CONTEXTO\n",
    "Un gerente del banco está molesto porque cada vez más clientes abandonan sus servicios de tarjeta de crédito. Realmente apreciarían si se pudiera predecir quién va a ser expulsado para que puedan acudir de manera proactiva al cliente para brindarle mejores servicios y cambiar las decisiones de los clientes en la dirección opuesta.\n",
    "\n",
    "Obtuve este conjunto de datos de un sitio web con la URL como https://leaps.analyttica.com/home . He estado usando esto durante un tiempo para obtener conjuntos de datos y, en consecuencia, trabajar en ellos para producir resultados fructíferos. El sitio explica cómo resolver un problema comercial en particular.\n",
    "\n",
    "Ahora, este conjunto de datos consta de 10,000 clientes que mencionan su edad, salario, estado civil, límite de tarjeta de crédito, categoría de tarjeta de crédito, etc. Hay casi 18 características.\n",
    "\n",
    "Solo tenemos un 16,07% de clientes que se han batido. Por lo tanto, es un poco difícil entrenar nuestro modelo para predecir la rotación de clientes."
   ]
  },
  {
   "cell_type": "code",
   "execution_count": 1,
   "id": "2963de0c",
   "metadata": {},
   "outputs": [],
   "source": [
    "import pandas as pd\n",
    "import numpy as np\n",
    "import matplotlib.pyplot as plt"
   ]
  },
  {
   "cell_type": "markdown",
   "id": "68e6afd3",
   "metadata": {},
   "source": [
    "## CARGANDO LOS DATOS Y OBTENIENDO LOS DATOS DE INTERES"
   ]
  },
  {
   "cell_type": "code",
   "execution_count": 2,
   "id": "ef4e5f1b",
   "metadata": {},
   "outputs": [],
   "source": [
    "clientes = pd.read_csv(\"C:/Users/Arley/Desktop/AaPortafoliodeProyectos/DataSets/BankChurners.csv\")"
   ]
  },
  {
   "cell_type": "code",
   "execution_count": 3,
   "id": "b676d0b4",
   "metadata": {},
   "outputs": [],
   "source": [
    "titulosnuevos = [\"NroCliente\", \"EstadoCuenta\", \"Edad\", \"Genero\", \"NroDependientes\", \"NivelEducativo\", \"EstadoCivil\", \"IngresosAnual\", \"TipoTarjeta\", \"Antiguedad\",\"NroProductosBanco\",\n",
    "                 \"MesesInactivos_Ult_Año\",\"Reclamos_Ult_año\", \"CupoMax\", \"SaldoRot\",\"Borrar1\",\"Borrar2\", \"Borrar3\",\"Transacciones_Ult_año\",\"Borrar4\",\"Borrar5\",\"Borrar6\",\"Borrar7\"]\n",
    "clientes.columns = titulosnuevos"
   ]
  },
  {
   "cell_type": "code",
   "execution_count": 4,
   "id": "f932ebee",
   "metadata": {},
   "outputs": [],
   "source": [
    "# ELIMINANDO COLUMNAS QUE NO SON DE INTERES\n",
    "clientes = clientes.drop([\"Borrar1\",\"Borrar2\", \"Borrar3\",\"Borrar4\",\"Borrar5\",\"Borrar6\",\"Borrar7\", \"SaldoRot\"], axis=1)"
   ]
  },
  {
   "cell_type": "code",
   "execution_count": 5,
   "id": "5281bc2c",
   "metadata": {},
   "outputs": [
    {
     "name": "stdout",
     "output_type": "stream",
     "text": [
      "<class 'pandas.core.frame.DataFrame'>\n",
      "RangeIndex: 10127 entries, 0 to 10126\n",
      "Data columns (total 15 columns):\n",
      " #   Column                  Non-Null Count  Dtype  \n",
      "---  ------                  --------------  -----  \n",
      " 0   NroCliente              10127 non-null  int64  \n",
      " 1   EstadoCuenta            10127 non-null  object \n",
      " 2   Edad                    10127 non-null  int64  \n",
      " 3   Genero                  10127 non-null  object \n",
      " 4   NroDependientes         10127 non-null  int64  \n",
      " 5   NivelEducativo          10127 non-null  object \n",
      " 6   EstadoCivil             10127 non-null  object \n",
      " 7   IngresosAnual           10127 non-null  object \n",
      " 8   TipoTarjeta             10127 non-null  object \n",
      " 9   Antiguedad              10127 non-null  int64  \n",
      " 10  NroProductosBanco       10127 non-null  int64  \n",
      " 11  MesesInactivos_Ult_Año  10127 non-null  int64  \n",
      " 12  Reclamos_Ult_año        10127 non-null  int64  \n",
      " 13  CupoMax                 10127 non-null  float64\n",
      " 14  Transacciones_Ult_año   10127 non-null  int64  \n",
      "dtypes: float64(1), int64(8), object(6)\n",
      "memory usage: 1.2+ MB\n"
     ]
    }
   ],
   "source": [
    "#ANALIZANDO SI HAY DATOS NULLOS\n",
    "clientes.info()\n",
    "\n",
    "# Conclusión: El dataSet esta Completo"
   ]
  },
  {
   "cell_type": "markdown",
   "id": "243accc7",
   "metadata": {},
   "source": [
    "# MODIFICANDO LOS DATOS CATEGORICOS CONVIERTIENDOLOS A DATOS NUMERICOS"
   ]
  },
  {
   "cell_type": "code",
   "execution_count": 6,
   "id": "a082f70e",
   "metadata": {},
   "outputs": [],
   "source": [
    "# Numero 1 Para Masculino Numero Cero para femenino\n",
    "clientes[\"Genero\"] = np.where(clientes[\"Genero\"]==\"M\",1,0)"
   ]
  },
  {
   "cell_type": "code",
   "execution_count": 7,
   "id": "fbec4142",
   "metadata": {},
   "outputs": [],
   "source": [
    "# Creamos una columna nueva para asignar las categorias numericas a los diferentes niveles de formacion\n",
    "\n",
    "clientes[\"NivelEducativo\"]= np.where(clientes[\"NivelEducativo\"]==\"Doctorate\",7,\n",
    "                            np.where(clientes[\"NivelEducativo\"]==\"Post-Graduate\",6,\n",
    "                            np.where(clientes[\"NivelEducativo\"]==\"Graduate\",5,\n",
    "                            np.where(clientes[\"NivelEducativo\"]==\"High School\",4,\n",
    "                            np.where(clientes[\"NivelEducativo\"]==\"College\",3,\n",
    "                            np.where(clientes[\"NivelEducativo\"]==\"Uneducated\",2,\n",
    "                            np.where(clientes[\"NivelEducativo\"]==\"Unknown\",1,0)))))))"
   ]
  },
  {
   "cell_type": "code",
   "execution_count": 8,
   "id": "c8f9bf20",
   "metadata": {},
   "outputs": [],
   "source": [
    "# Numero uno cuenta activa\n",
    "clientes[\"EstadoCuenta\"] = np.where(clientes[\"EstadoCuenta\"]==\"Existing Customer\",1,0)"
   ]
  },
  {
   "cell_type": "code",
   "execution_count": 9,
   "id": "6e619a39",
   "metadata": {},
   "outputs": [],
   "source": [
    "# Se asigna valores enteros para cada categoria\n",
    "clientes[\"EstadoCivil\"] = np.where(clientes[\"EstadoCivil\"]==\"Single\",4,\n",
    "                          np.where(clientes[\"EstadoCivil\"]==\"Divorced\",3,\n",
    "                          np.where(clientes[\"EstadoCivil\"]==\"Married\",2,\n",
    "                          np.where(clientes[\"EstadoCivil\"]==\"Unknown\",1,0))))"
   ]
  },
  {
   "cell_type": "code",
   "execution_count": 10,
   "id": "24e32f4b",
   "metadata": {},
   "outputs": [],
   "source": [
    "clientes[\"IngresosAnual\"] = np.where(clientes[\"IngresosAnual\"]==\"$120K +\",6,\n",
    "                            np.where(clientes[\"IngresosAnual\"]==\"$80K - $120K\",5,\n",
    "                            np.where(clientes[\"IngresosAnual\"]==\"$60K - $80K\",4,\n",
    "                            np.where(clientes[\"IngresosAnual\"]==\"$40K - $60K\",3,\n",
    "                            np.where(clientes[\"IngresosAnual\"]==\"Less than $40K\",2,\n",
    "                            np.where(clientes[\"IngresosAnual\"]==\"Unknown\",1,0))))))"
   ]
  },
  {
   "cell_type": "code",
   "execution_count": 11,
   "id": "36db84b4",
   "metadata": {},
   "outputs": [],
   "source": [
    "clientes[\"TipoTarjeta\"] = np.where(clientes[\"TipoTarjeta\"]==\"Platinum\",4,\n",
    "                          np.where(clientes[\"TipoTarjeta\"]==\"Gold\",3,\n",
    "                          np.where(clientes[\"TipoTarjeta\"]==\"Silver\",2,\n",
    "                          np.where(clientes[\"TipoTarjeta\"]==\"Blue\",1,0))))"
   ]
  },
  {
   "cell_type": "markdown",
   "id": "9f524c52",
   "metadata": {},
   "source": [
    "## TRANSFORMACION DE DATOS\n",
    "Como podemos observar con la siguiente linea todos los datos quedan en definitiva como valores numericos\n"
   ]
  },
  {
   "cell_type": "code",
   "execution_count": 12,
   "id": "3a333d9f",
   "metadata": {},
   "outputs": [
    {
     "name": "stdout",
     "output_type": "stream",
     "text": [
      "<class 'pandas.core.frame.DataFrame'>\n",
      "RangeIndex: 10127 entries, 0 to 10126\n",
      "Data columns (total 15 columns):\n",
      " #   Column                  Non-Null Count  Dtype  \n",
      "---  ------                  --------------  -----  \n",
      " 0   NroCliente              10127 non-null  int64  \n",
      " 1   EstadoCuenta            10127 non-null  int32  \n",
      " 2   Edad                    10127 non-null  int64  \n",
      " 3   Genero                  10127 non-null  int32  \n",
      " 4   NroDependientes         10127 non-null  int64  \n",
      " 5   NivelEducativo          10127 non-null  int32  \n",
      " 6   EstadoCivil             10127 non-null  int32  \n",
      " 7   IngresosAnual           10127 non-null  int32  \n",
      " 8   TipoTarjeta             10127 non-null  int32  \n",
      " 9   Antiguedad              10127 non-null  int64  \n",
      " 10  NroProductosBanco       10127 non-null  int64  \n",
      " 11  MesesInactivos_Ult_Año  10127 non-null  int64  \n",
      " 12  Reclamos_Ult_año        10127 non-null  int64  \n",
      " 13  CupoMax                 10127 non-null  float64\n",
      " 14  Transacciones_Ult_año   10127 non-null  int64  \n",
      "dtypes: float64(1), int32(6), int64(8)\n",
      "memory usage: 949.5 KB\n"
     ]
    }
   ],
   "source": [
    "clientes.info()"
   ]
  },
  {
   "cell_type": "code",
   "execution_count": 24,
   "id": "33069a79",
   "metadata": {},
   "outputs": [],
   "source": [
    "# Exportando el Dataframe con el Preprocesamiento\n",
    "from pathlib import Path  \n",
    "filepath = Path('C:/Users/Arley/Desktop/AaPortafoliodeProyectos/clientes.csv')  \n",
    "filepath.parent.mkdir(parents=True, exist_ok=True)  \n",
    "clientes.to_csv(filepath, index=False)"
   ]
  }
 ],
 "metadata": {
  "kernelspec": {
   "display_name": "Python 3 (ipykernel)",
   "language": "python",
   "name": "python3"
  },
  "language_info": {
   "codemirror_mode": {
    "name": "ipython",
    "version": 3
   },
   "file_extension": ".py",
   "mimetype": "text/x-python",
   "name": "python",
   "nbconvert_exporter": "python",
   "pygments_lexer": "ipython3",
   "version": "3.9.13"
  }
 },
 "nbformat": 4,
 "nbformat_minor": 5
}
